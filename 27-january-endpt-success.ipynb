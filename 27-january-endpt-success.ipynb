{
 "cells": [
  {
   "cell_type": "code",
   "execution_count": null,
   "id": "7dff9076-02b6-43b9-904a-f0b63d7b5c52",
   "metadata": {},
   "outputs": [],
   "source": [
    "!export OPENAI_API_KEY=\"openai-apikey\" "
   ]
  },
  {
   "cell_type": "code",
   "execution_count": null,
   "id": "69b5e413-4d02-4b59-b763-3f52b424178d",
   "metadata": {},
   "outputs": [
    {
     "name": "stdout",
     "output_type": "stream",
     "text": [
      "Writing inference.py\n"
     ]
    }
   ],
   "source": [
    "%%writefile inference.py\n",
    "\n",
    "import os\n",
    "import json\n",
    "import logging\n",
    "import traceback\n",
    "from flask import Flask, request, jsonify\n",
    "import autogen\n",
    "from autogen import AssistantAgent, UserProxyAgent\n",
    "\n",
    "# Configure logging - SageMaker expects logs on stdout/stderr\n",
    "logging.basicConfig(\n",
    "    level=logging.INFO,\n",
    "    format='%(asctime)s [%(levelname)s] %(message)s',\n",
    "    handlers=[logging.StreamHandler()]\n",
    ")\n",
    "logger = logging.getLogger(__name__)\n",
    "\n",
    "# Initialize Flask application\n",
    "app = Flask(__name__)\n",
    "\n",
    "# Get API key and model settings from environment variables with defaults\n",
    "OPENAI_API_KEY = os.environ.get(\"OPENAI_API_KEY\", \"openai-apikey\")\n",
    "MODEL_NAME = os.environ.get(\"MODEL_NAME\", \"gpt-3.5-turbo\")\n",
    "MAX_TOKENS = int(os.environ.get(\"MAX_TOKENS\", \"1000\"))\n",
    "TEMPERATURE = float(os.environ.get(\"TEMPERATURE\", \"0.7\"))\n",
    "\n",
    "# Set environment variable to disable Docker usage\n",
    "os.environ[\"AUTOGEN_USE_DOCKER\"] = \"0\"\n",
    "\n",
    "# ReAct prompt for legal document analysis\n",
    "REACT_PROMPT = \"\"\"\n",
    "You are a legal expert tasked with helping users review and plan legal documents. \n",
    "You can analyze clauses, detect potential issues, and suggest improvements for legal soundness. \n",
    "Use the following format:\n",
    "\n",
    "Question: the input question or request\n",
    "Thought: you should always think about what to do\n",
    "Action: the action to take (if any)\n",
    "Action Input: the input to the action (e.g., search query)\n",
    "Observation: the result of the action\n",
    "... (this process can repeat multiple times)\n",
    "Thought: I now know the final answer\n",
    "Final Answer: the final answer to the original input question or request\n",
    "\n",
    "Begin!\n",
    "Question: {input}\n",
    "\"\"\"\n",
    "\n",
    "def get_llm_config():\n",
    "    \"\"\"Create and return LLM configuration for AutoGen\"\"\"\n",
    "    try:\n",
    "        # Check if API key is set\n",
    "        if not OPENAI_API_KEY:\n",
    "            raise ValueError(\"OPENAI_API_KEY environment variable is not set\")\n",
    "            \n",
    "        # Create config list directly without helper function\n",
    "        config_list = [\n",
    "            {\n",
    "                \"model\": MODEL_NAME,\n",
    "                \"cache_seed\": None,\n",
    "                \"api_key\": OPENAI_API_KEY\n",
    "            }\n",
    "        ]\n",
    "        \n",
    "        # Create LLM config\n",
    "        llm_config = {\n",
    "            \"config_list\": config_list,\n",
    "            \"max_tokens\": MAX_TOKENS,\n",
    "            \"temperature\": TEMPERATURE\n",
    "        }\n",
    "        \n",
    "        logger.info(f\"LLM config created successfully using model: {MODEL_NAME}\")\n",
    "        return llm_config\n",
    "    except Exception as e:\n",
    "        logger.error(f\"Error creating LLM config: {str(e)}\")\n",
    "        logger.error(traceback.format_exc())\n",
    "        raise\n",
    "\n",
    "def create_agents():\n",
    "    \"\"\"Create and configure AutoGen agents\"\"\"\n",
    "    try:\n",
    "        # Get LLM config\n",
    "        llm_config = get_llm_config()\n",
    "        \n",
    "        # Configure code execution to not use Docker\n",
    "        code_execution_config = {\n",
    "            \"use_docker\": False,  # Explicitly disable Docker\n",
    "            \"work_dir\": \"/tmp/autogen\"  # Use a writable directory in SageMaker\n",
    "        }\n",
    "        \n",
    "        # Assistant configuration\n",
    "        assistant = AssistantAgent(\n",
    "            name=\"LegalPlannerAssistant\",\n",
    "            system_message=\"You are a legal planner tasked with analyzing legal documents and planning legal actions. Use the ReAct framework provided.\",\n",
    "            llm_config=llm_config\n",
    "        )\n",
    "        \n",
    "        # User proxy configuration\n",
    "        user_proxy = UserProxyAgent(\n",
    "            name=\"User\",\n",
    "            human_input_mode=\"NEVER\",\n",
    "            max_consecutive_auto_reply=5,\n",
    "            is_termination_msg=lambda x: x.get(\"content\", \"\") and \"TERMINATE\" in x.get(\"content\", \"\"),\n",
    "            code_execution_config=code_execution_config  # Apply code execution config\n",
    "        )\n",
    "        \n",
    "        logger.info(\"Agents created successfully with Docker disabled\")\n",
    "        return assistant, user_proxy\n",
    "    except Exception as e:\n",
    "        logger.error(f\"Error creating agents: {str(e)}\")\n",
    "        logger.error(traceback.format_exc())\n",
    "        raise\n",
    "\n",
    "def generate_response(text_input):\n",
    "    \"\"\"Generate response using AutoGen agents with ReAct prompting\"\"\"\n",
    "    try:\n",
    "        logger.info(\"Generating response for input\")\n",
    "        assistant, user_proxy = create_agents()\n",
    "        \n",
    "        # Format the input with ReAct prompt\n",
    "        formatted_input = REACT_PROMPT.format(input=text_input)\n",
    "        \n",
    "        # Initiate chat with the formatted input\n",
    "        user_proxy.initiate_chat(\n",
    "            assistant,\n",
    "            message=formatted_input\n",
    "        )\n",
    "        \n",
    "        # Extract response from the conversation\n",
    "        conversation = user_proxy.chat_messages[assistant.name]\n",
    "        response = conversation[-1][\"content\"] if conversation else \"No response generated\"\n",
    "        \n",
    "        logger.info(\"Response generated successfully\")\n",
    "        return response\n",
    "    except Exception as e:\n",
    "        error_msg = f\"Error generating response: {str(e)}\"\n",
    "        logger.error(error_msg)\n",
    "        logger.error(traceback.format_exc())\n",
    "        return error_msg\n",
    "\n",
    "@app.route(\"/ping\", methods=[\"GET\"])\n",
    "def ping():\n",
    "    \"\"\"Health check endpoint required by SageMaker\"\"\"\n",
    "    try:\n",
    "        # Check if API key is available\n",
    "        if not OPENAI_API_KEY:\n",
    "            logger.warning(\"OPENAI_API_KEY is not set\")\n",
    "            return jsonify({\"status\": \"unhealthy\", \"reason\": \"Missing OpenAI API key\"}), 500\n",
    "        \n",
    "        # Validate model configuration\n",
    "        if not MODEL_NAME:\n",
    "            logger.warning(\"MODEL_NAME is not set\")\n",
    "            return jsonify({\"status\": \"unhealthy\", \"reason\": \"Missing model name\"}), 500\n",
    "            \n",
    "        logger.info(\"Health check passed\")\n",
    "        return jsonify({\"status\": \"healthy\"}), 200\n",
    "    except Exception as e:\n",
    "        logger.error(f\"Health check failed: {str(e)}\")\n",
    "        return jsonify({\"status\": \"unhealthy\", \"reason\": str(e)}), 500\n",
    "\n",
    "@app.route(\"/invocations\", methods=[\"POST\"])\n",
    "def invoke():\n",
    "    \"\"\"Inference endpoint for SageMaker\"\"\"\n",
    "    try:\n",
    "        # Parse input data from request\n",
    "        if request.content_type == 'application/json':\n",
    "            data = request.get_json()\n",
    "            if not data:\n",
    "                return jsonify({\"error\": \"Empty request body\"}), 400\n",
    "                \n",
    "            text_input = data.get(\"input\", \"\")\n",
    "            if not text_input:\n",
    "                return jsonify({\"error\": \"Missing 'input' field in request\"}), 400\n",
    "                \n",
    "        else:\n",
    "            return jsonify({\"error\": \"Unsupported content type. Use application/json\"}), 415\n",
    "        \n",
    "        # Log the input (truncated for security/privacy)\n",
    "        input_preview = text_input[:100] + \"...\" if len(text_input) > 100 else text_input\n",
    "        logger.info(f\"Received input: {input_preview}\")\n",
    "        \n",
    "        # Generate response\n",
    "        response = generate_response(text_input)\n",
    "        \n",
    "        # Return the response with proper Content-Type for SageMaker\n",
    "        return jsonify({\"response\": response})\n",
    "    except Exception as e:\n",
    "        error_msg = f\"Error during inference: {str(e)}\"\n",
    "        logger.error(error_msg)\n",
    "        logger.error(traceback.format_exc())\n",
    "        return jsonify({\"error\": error_msg}), 500\n",
    "\n",
    "# SageMaker specific handling for production\n",
    "if __name__ == \"__main__\":\n",
    "    # Get port from environment variable or use default\n",
    "    port = int(os.environ.get(\"PORT\", 8080))\n",
    "    \n",
    "    # In production, SageMaker expects the app to listen on 0.0.0.0 and port 8080\n",
    "    app.run(host=\"0.0.0.0\", port=port, debug=False)"
   ]
  },
  {
   "cell_type": "code",
   "execution_count": 3,
   "id": "64d62f3e-9bce-4bd4-96a4-7676dbe27c7f",
   "metadata": {},
   "outputs": [
    {
     "name": "stdout",
     "output_type": "stream",
     "text": [
      "Writing requirements.txt\n"
     ]
    }
   ],
   "source": [
    "%%writefile requirements.txt\n",
    "\n",
    "flask==2.3.3\n",
    "gunicorn==21.2.0\n",
    "pyautogen==0.7.5\n",
    "openai==1.64.0\n",
    "boto3==1.28.38\n",
    "botocore==1.31.38"
   ]
  },
  {
   "cell_type": "code",
   "execution_count": 4,
   "id": "c09d5a50-fc06-4899-849a-3b3a44238e40",
   "metadata": {},
   "outputs": [
    {
     "name": "stdout",
     "output_type": "stream",
     "text": [
      "Writing Dockerfile\n"
     ]
    }
   ],
   "source": [
    "%%writefile Dockerfile\n",
    "\n",
    "FROM python:3.9-slim\n",
    "\n",
    "# Set working directory\n",
    "WORKDIR /app\n",
    "\n",
    "# Install system dependencies\n",
    "RUN apt-get update && apt-get install -y \\\n",
    "    build-essential \\\n",
    "    && rm -rf /var/lib/apt/lists/*\n",
    "\n",
    "# Copy application files\n",
    "COPY inference.py /app/\n",
    "COPY requirements.txt /app/\n",
    "\n",
    "# Create the model directory that SageMaker expects\n",
    "RUN mkdir -p /opt/ml/model\n",
    "\n",
    "# Create and set permissions for cache directories\n",
    "RUN mkdir -p /.cache && chmod 777 /.cache\n",
    "\n",
    "# Create a writable directory for AutoGen's code execution\n",
    "RUN mkdir -p /tmp/autogen && chmod 777 /tmp/autogen\n",
    "\n",
    "# Install dependencies with extra debugging\n",
    "RUN pip install --no-cache-dir -r requirements.txt && \\\n",
    "    pip list\n",
    "\n",
    "# Create logs directory\n",
    "RUN mkdir -p /var/log/autogen && chmod 777 /var/log/autogen\n",
    "\n",
    "# Create a serve script that SageMaker expects\n",
    "RUN echo '#!/bin/bash\\ncd /app && gunicorn --bind 0.0.0.0:8080 --timeout 300 --workers 1 --log-level debug inference:app' > /usr/local/bin/serve && \\\n",
    "    chmod +x /usr/local/bin/serve\n",
    "\n",
    "# Set cache directory to a writable location\n",
    "ENV TRANSFORMERS_CACHE=\"/tmp/cache\"\n",
    "ENV HF_HOME=\"/tmp/cache\"\n",
    "\n",
    "# Environment variables\n",
    "ENV MODEL_NAME=\"gpt-3.5-turbo\"\n",
    "ENV MAX_TOKENS=\"1000\"\n",
    "ENV TEMPERATURE=\"0.7\"\n",
    "ENV PYTHONUNBUFFERED=1\n",
    "ENV AUTOGEN_USE_DOCKER=\"0\"\n",
    "\n",
    "# Make sure serve is in PATH\n",
    "ENV PATH=\"/usr/local/bin:${PATH}\"\n",
    "\n",
    "# Expose the port\n",
    "EXPOSE 8080\n",
    "\n",
    "# Set working directory as per SageMaker requirements\n",
    "WORKDIR /app\n",
    "\n",
    "# Command to run when container starts\n",
    "CMD [\"serve\"]"
   ]
  },
  {
   "cell_type": "code",
   "execution_count": null,
   "id": "2ce49974-3b3d-4023-b8e4-848587e076cd",
   "metadata": {},
   "outputs": [],
   "source": [
    "# Build the Docker image\n",
    "!docker build -t llm-autogen-check-claude:latest .\n",
    "\n",
    "# Tag the image for ECR\n",
    "!docker tag llm-autogen-check-claude:latest 311141549115.dkr.ecr.us-east-1.amazonaws.com/llm-autogen-check-claude:latest\n",
    "\n",
    "# Push to ECR\n",
    "!docker push 311141549115.dkr.ecr.us-east-1.amazonaws.com/llm-autogen-check-claude:latest"
   ]
  },
  {
   "cell_type": "code",
   "execution_count": null,
   "id": "3c1c6a44-6fd5-4a74-bd8c-b67b4661f483",
   "metadata": {},
   "outputs": [
    {
     "name": "stderr",
     "output_type": "stream",
     "text": [
      "/home/ec2-user/anaconda3/envs/python3/lib/python3.10/site-packages/pydantic/_internal/_fields.py:192: UserWarning: Field name \"json\" in \"MonitoringDatasetFormat\" shadows an attribute in parent \"Base\"\n",
      "  warnings.warn(\n"
     ]
    },
    {
     "data": {
      "text/html": [
       "<pre style=\"white-space:pre;overflow-x:auto;line-height:normal;font-family:Menlo,'DejaVu Sans Mono',consolas,'Courier New',monospace\"><span style=\"color: #7fbfbf; text-decoration-color: #7fbfbf\">[02/27/25 09:40:06] </span><span style=\"color: #0069ff; text-decoration-color: #0069ff; font-weight: bold\">INFO    </span> Found credentials from IAM Role:                                   <a href=\"file:///home/ec2-user/anaconda3/envs/python3/lib/python3.10/site-packages/botocore/credentials.py\" target=\"_blank\"><span style=\"color: #7f7f7f; text-decoration-color: #7f7f7f\">credentials.py</span></a><span style=\"color: #7f7f7f; text-decoration-color: #7f7f7f\">:</span><a href=\"file:///home/ec2-user/anaconda3/envs/python3/lib/python3.10/site-packages/botocore/credentials.py#1075\" target=\"_blank\"><span style=\"color: #7f7f7f; text-decoration-color: #7f7f7f\">1075</span></a>\n",
       "<span style=\"color: #7fbfbf; text-decoration-color: #7fbfbf\">                    </span>         BaseNotebookInstanceEc2InstanceRole                                <span style=\"color: #7f7f7f; text-decoration-color: #7f7f7f\">                   </span>\n",
       "</pre>\n"
      ],
      "text/plain": [
       "\u001b[2;36m[02/27/25 09:40:06]\u001b[0m\u001b[2;36m \u001b[0m\u001b[1;38;2;0;105;255mINFO    \u001b[0m Found credentials from IAM Role:                                   \u001b]8;id=526620;file:///home/ec2-user/anaconda3/envs/python3/lib/python3.10/site-packages/botocore/credentials.py\u001b\\\u001b[2mcredentials.py\u001b[0m\u001b]8;;\u001b\\\u001b[2m:\u001b[0m\u001b]8;id=629623;file:///home/ec2-user/anaconda3/envs/python3/lib/python3.10/site-packages/botocore/credentials.py#1075\u001b\\\u001b[2m1075\u001b[0m\u001b]8;;\u001b\\\n",
       "\u001b[2;36m                    \u001b[0m         BaseNotebookInstanceEc2InstanceRole                                \u001b[2m                   \u001b[0m\n"
      ]
     },
     "metadata": {},
     "output_type": "display_data"
    },
    {
     "name": "stdout",
     "output_type": "stream",
     "text": [
      "sagemaker.config INFO - Not applying SDK defaults from location: /etc/xdg/sagemaker/config.yaml\n",
      "sagemaker.config INFO - Not applying SDK defaults from location: /home/ec2-user/.config/sagemaker/config.yaml\n"
     ]
    },
    {
     "data": {
      "text/html": [
       "<pre style=\"white-space:pre;overflow-x:auto;line-height:normal;font-family:Menlo,'DejaVu Sans Mono',consolas,'Courier New',monospace\"><span style=\"color: #7fbfbf; text-decoration-color: #7fbfbf\">[02/27/25 09:40:07] </span><span style=\"color: #0069ff; text-decoration-color: #0069ff; font-weight: bold\">INFO    </span> Found credentials from IAM Role:                                   <a href=\"file:///home/ec2-user/anaconda3/envs/python3/lib/python3.10/site-packages/botocore/credentials.py\" target=\"_blank\"><span style=\"color: #7f7f7f; text-decoration-color: #7f7f7f\">credentials.py</span></a><span style=\"color: #7f7f7f; text-decoration-color: #7f7f7f\">:</span><a href=\"file:///home/ec2-user/anaconda3/envs/python3/lib/python3.10/site-packages/botocore/credentials.py#1075\" target=\"_blank\"><span style=\"color: #7f7f7f; text-decoration-color: #7f7f7f\">1075</span></a>\n",
       "<span style=\"color: #7fbfbf; text-decoration-color: #7fbfbf\">                    </span>         BaseNotebookInstanceEc2InstanceRole                                <span style=\"color: #7f7f7f; text-decoration-color: #7f7f7f\">                   </span>\n",
       "</pre>\n"
      ],
      "text/plain": [
       "\u001b[2;36m[02/27/25 09:40:07]\u001b[0m\u001b[2;36m \u001b[0m\u001b[1;38;2;0;105;255mINFO    \u001b[0m Found credentials from IAM Role:                                   \u001b]8;id=907852;file:///home/ec2-user/anaconda3/envs/python3/lib/python3.10/site-packages/botocore/credentials.py\u001b\\\u001b[2mcredentials.py\u001b[0m\u001b]8;;\u001b\\\u001b[2m:\u001b[0m\u001b]8;id=510136;file:///home/ec2-user/anaconda3/envs/python3/lib/python3.10/site-packages/botocore/credentials.py#1075\u001b\\\u001b[2m1075\u001b[0m\u001b]8;;\u001b\\\n",
       "\u001b[2;36m                    \u001b[0m         BaseNotebookInstanceEc2InstanceRole                                \u001b[2m                   \u001b[0m\n"
      ]
     },
     "metadata": {},
     "output_type": "display_data"
    },
    {
     "name": "stdout",
     "output_type": "stream",
     "text": [
      "🔹 Using role ARN: arn:aws:iam::311141549115:role/Autogen-Multiagent\n",
      "🔹 ECR URI: 311141549115.dkr.ecr.us-east-1.amazonaws.com/llm-autogen-check-claude:latest\n"
     ]
    },
    {
     "data": {
      "text/html": [
       "<pre style=\"white-space:pre;overflow-x:auto;line-height:normal;font-family:Menlo,'DejaVu Sans Mono',consolas,'Courier New',monospace\"><span style=\"color: #7fbfbf; text-decoration-color: #7fbfbf\">                    </span><span style=\"color: #0069ff; text-decoration-color: #0069ff; font-weight: bold\">INFO    </span> Found credentials from IAM Role:                                   <a href=\"file:///home/ec2-user/anaconda3/envs/python3/lib/python3.10/site-packages/botocore/credentials.py\" target=\"_blank\"><span style=\"color: #7f7f7f; text-decoration-color: #7f7f7f\">credentials.py</span></a><span style=\"color: #7f7f7f; text-decoration-color: #7f7f7f\">:</span><a href=\"file:///home/ec2-user/anaconda3/envs/python3/lib/python3.10/site-packages/botocore/credentials.py#1075\" target=\"_blank\"><span style=\"color: #7f7f7f; text-decoration-color: #7f7f7f\">1075</span></a>\n",
       "<span style=\"color: #7fbfbf; text-decoration-color: #7fbfbf\">                    </span>         BaseNotebookInstanceEc2InstanceRole                                <span style=\"color: #7f7f7f; text-decoration-color: #7f7f7f\">                   </span>\n",
       "</pre>\n"
      ],
      "text/plain": [
       "\u001b[2;36m                   \u001b[0m\u001b[2;36m \u001b[0m\u001b[1;38;2;0;105;255mINFO    \u001b[0m Found credentials from IAM Role:                                   \u001b]8;id=648107;file:///home/ec2-user/anaconda3/envs/python3/lib/python3.10/site-packages/botocore/credentials.py\u001b\\\u001b[2mcredentials.py\u001b[0m\u001b]8;;\u001b\\\u001b[2m:\u001b[0m\u001b]8;id=707439;file:///home/ec2-user/anaconda3/envs/python3/lib/python3.10/site-packages/botocore/credentials.py#1075\u001b\\\u001b[2m1075\u001b[0m\u001b]8;;\u001b\\\n",
       "\u001b[2;36m                    \u001b[0m         BaseNotebookInstanceEc2InstanceRole                                \u001b[2m                   \u001b[0m\n"
      ]
     },
     "metadata": {},
     "output_type": "display_data"
    },
    {
     "data": {
      "text/html": [
       "<pre style=\"white-space:pre;overflow-x:auto;line-height:normal;font-family:Menlo,'DejaVu Sans Mono',consolas,'Courier New',monospace\"><span style=\"color: #7fbfbf; text-decoration-color: #7fbfbf\">                    </span><span style=\"color: #0069ff; text-decoration-color: #0069ff; font-weight: bold\">INFO    </span> Creating model with name: 27legal-autogen-endpoint-version3-claude     <a href=\"file:///home/ec2-user/anaconda3/envs/python3/lib/python3.10/site-packages/sagemaker/session.py\" target=\"_blank\"><span style=\"color: #7f7f7f; text-decoration-color: #7f7f7f\">session.py</span></a><span style=\"color: #7f7f7f; text-decoration-color: #7f7f7f\">:</span><a href=\"file:///home/ec2-user/anaconda3/envs/python3/lib/python3.10/site-packages/sagemaker/session.py#4094\" target=\"_blank\"><span style=\"color: #7f7f7f; text-decoration-color: #7f7f7f\">4094</span></a>\n",
       "</pre>\n"
      ],
      "text/plain": [
       "\u001b[2;36m                   \u001b[0m\u001b[2;36m \u001b[0m\u001b[1;38;2;0;105;255mINFO    \u001b[0m Creating model with name: 27legal-autogen-endpoint-version3-claude     \u001b]8;id=855073;file:///home/ec2-user/anaconda3/envs/python3/lib/python3.10/site-packages/sagemaker/session.py\u001b\\\u001b[2msession.py\u001b[0m\u001b]8;;\u001b\\\u001b[2m:\u001b[0m\u001b]8;id=690540;file:///home/ec2-user/anaconda3/envs/python3/lib/python3.10/site-packages/sagemaker/session.py#4094\u001b\\\u001b[2m4094\u001b[0m\u001b]8;;\u001b\\\n"
      ]
     },
     "metadata": {},
     "output_type": "display_data"
    },
    {
     "data": {
      "text/html": [
       "<pre style=\"white-space:pre;overflow-x:auto;line-height:normal;font-family:Menlo,'DejaVu Sans Mono',consolas,'Courier New',monospace\"><span style=\"color: #7fbfbf; text-decoration-color: #7fbfbf\">[02/27/25 09:40:08] </span><span style=\"color: #0069ff; text-decoration-color: #0069ff; font-weight: bold\">INFO    </span> Creating endpoint-config with name                                     <a href=\"file:///home/ec2-user/anaconda3/envs/python3/lib/python3.10/site-packages/sagemaker/session.py\" target=\"_blank\"><span style=\"color: #7f7f7f; text-decoration-color: #7f7f7f\">session.py</span></a><span style=\"color: #7f7f7f; text-decoration-color: #7f7f7f\">:</span><a href=\"file:///home/ec2-user/anaconda3/envs/python3/lib/python3.10/site-packages/sagemaker/session.py#5889\" target=\"_blank\"><span style=\"color: #7f7f7f; text-decoration-color: #7f7f7f\">5889</span></a>\n",
       "<span style=\"color: #7fbfbf; text-decoration-color: #7fbfbf\">                    </span>         27legal-autogen-endpoint-version3-claude                               <span style=\"color: #7f7f7f; text-decoration-color: #7f7f7f\">               </span>\n",
       "</pre>\n"
      ],
      "text/plain": [
       "\u001b[2;36m[02/27/25 09:40:08]\u001b[0m\u001b[2;36m \u001b[0m\u001b[1;38;2;0;105;255mINFO    \u001b[0m Creating endpoint-config with name                                     \u001b]8;id=45207;file:///home/ec2-user/anaconda3/envs/python3/lib/python3.10/site-packages/sagemaker/session.py\u001b\\\u001b[2msession.py\u001b[0m\u001b]8;;\u001b\\\u001b[2m:\u001b[0m\u001b]8;id=967683;file:///home/ec2-user/anaconda3/envs/python3/lib/python3.10/site-packages/sagemaker/session.py#5889\u001b\\\u001b[2m5889\u001b[0m\u001b]8;;\u001b\\\n",
       "\u001b[2;36m                    \u001b[0m         27legal-autogen-endpoint-version3-claude                               \u001b[2m               \u001b[0m\n"
      ]
     },
     "metadata": {},
     "output_type": "display_data"
    },
    {
     "data": {
      "text/html": [
       "<pre style=\"white-space:pre;overflow-x:auto;line-height:normal;font-family:Menlo,'DejaVu Sans Mono',consolas,'Courier New',monospace\"><span style=\"color: #7fbfbf; text-decoration-color: #7fbfbf\">                    </span><span style=\"color: #0069ff; text-decoration-color: #0069ff; font-weight: bold\">INFO    </span> Creating endpoint with name 27legal-autogen-endpoint-version3-claude   <a href=\"file:///home/ec2-user/anaconda3/envs/python3/lib/python3.10/site-packages/sagemaker/session.py\" target=\"_blank\"><span style=\"color: #7f7f7f; text-decoration-color: #7f7f7f\">session.py</span></a><span style=\"color: #7f7f7f; text-decoration-color: #7f7f7f\">:</span><a href=\"file:///home/ec2-user/anaconda3/envs/python3/lib/python3.10/site-packages/sagemaker/session.py#4711\" target=\"_blank\"><span style=\"color: #7f7f7f; text-decoration-color: #7f7f7f\">4711</span></a>\n",
       "</pre>\n"
      ],
      "text/plain": [
       "\u001b[2;36m                   \u001b[0m\u001b[2;36m \u001b[0m\u001b[1;38;2;0;105;255mINFO    \u001b[0m Creating endpoint with name 27legal-autogen-endpoint-version3-claude   \u001b]8;id=335427;file:///home/ec2-user/anaconda3/envs/python3/lib/python3.10/site-packages/sagemaker/session.py\u001b\\\u001b[2msession.py\u001b[0m\u001b]8;;\u001b\\\u001b[2m:\u001b[0m\u001b]8;id=55441;file:///home/ec2-user/anaconda3/envs/python3/lib/python3.10/site-packages/sagemaker/session.py#4711\u001b\\\u001b[2m4711\u001b[0m\u001b]8;;\u001b\\\n"
      ]
     },
     "metadata": {},
     "output_type": "display_data"
    },
    {
     "name": "stdout",
     "output_type": "stream",
     "text": [
      "---------------!✅ **SageMaker Serverless Endpoint Created!**\n",
      "🔹 **Endpoint Name**: 27legal-autogen-endpoint-version3-claude\n",
      "🔹 **Status**: InService (Check SageMaker Console)\n",
      "🔹 **ARN**: arn:aws:sagemaker:us-east-1:311141549115:endpoint/27legal-autogen-endpoint-version3-claude\n",
      "🔹 **Invoke URL**: https://runtime.sagemaker.us-east-1.amazonaws.com/endpoints/27legal-autogen-endpoint-version3-claude/invocations\n"
     ]
    }
   ],
   "source": [
    "import boto3\n",
    "import sagemaker\n",
    "import json\n",
    "from sagemaker.model import Model\n",
    "from sagemaker.serverless import ServerlessInferenceConfig\n",
    "\n",
    "def deploy_serverless_endpoint():\n",
    "    \"\"\"\n",
    "    Deploy a SageMaker serverless endpoint and print endpoint details.\n",
    "    \"\"\"\n",
    "    # Configurations\n",
    "    ecr_uri = \"311141549115.dkr.ecr.us-east-1.amazonaws.com/llm-autogen-check-claude:latest\"\n",
    "    endpoint_name = \"27legal-autogen-endpoint-version3-claude\"\n",
    "    role_arn = \"arn:aws:iam::311141549115:role/Autogen-Multiagent\"  # Replace\n",
    "    memory_size = 2048\n",
    "    max_concurrency = 5\n",
    "    region = \"us-east-1\"\n",
    "\n",
    "    # Initialize SageMaker session\n",
    "    boto_session = boto3.Session(region_name=region)\n",
    "    sagemaker_session = sagemaker.Session(boto_session=boto_session)\n",
    "\n",
    "    print(f\"🔹 Using role ARN: {role_arn}\")\n",
    "    print(f\"🔹 ECR URI: {ecr_uri}\")\n",
    "\n",
    "    # Environment Variables\n",
    "    environment = {\n",
    "        \"MODEL_NAME\": \"gpt-3.5-turbo\",\n",
    "        \"MAX_TOKENS\": \"1000\",\n",
    "        \"TEMPERATURE\": \"0.7\",\n",
    "        \"OPENAI_API_KEY\": \"openai-apikey\"  # Replace with actual key\n",
    "    }\n",
    "\n",
    "    # Create Model\n",
    "    model = Model(\n",
    "        image_uri=ecr_uri,\n",
    "        role=role_arn,\n",
    "        env=environment,\n",
    "        name=endpoint_name\n",
    "    )\n",
    "\n",
    "    # Serverless Config\n",
    "    serverless_config = ServerlessInferenceConfig(\n",
    "        memory_size_in_mb=memory_size,\n",
    "        max_concurrency=max_concurrency\n",
    "    )\n",
    "\n",
    "    # Deploy Model\n",
    "    predictor = model.deploy(\n",
    "        serverless_inference_config=serverless_config,\n",
    "        endpoint_name=endpoint_name\n",
    "    )\n",
    "\n",
    "    # Print Deployment Info\n",
    "    print(f\"✅ **SageMaker Serverless Endpoint Created!**\")\n",
    "    print(f\"🔹 **Endpoint Name**: {endpoint_name}\")\n",
    "    print(f\"🔹 **Status**: InService (Check SageMaker Console)\")\n",
    "    print(f\"🔹 **ARN**: arn:aws:sagemaker:{region}:311141549115:endpoint/{endpoint_name}\")\n",
    "    print(f\"🔹 **Invoke URL**: https://runtime.sagemaker.{region}.amazonaws.com/endpoints/{endpoint_name}/invocations\")\n",
    "\n",
    "    return predictor\n",
    "\n",
    "# Run Deployment\n",
    "predictor = deploy_serverless_endpoint()"
   ]
  },
  {
   "cell_type": "code",
   "execution_count": 7,
   "id": "1b43f8e3-dc49-433c-99d8-5c4fd6810d2b",
   "metadata": {},
   "outputs": [
    {
     "data": {
      "text/html": [
       "<pre style=\"white-space:pre;overflow-x:auto;line-height:normal;font-family:Menlo,'DejaVu Sans Mono',consolas,'Courier New',monospace\"><span style=\"color: #7fbfbf; text-decoration-color: #7fbfbf\">[02/27/25 09:49:19] </span><span style=\"color: #0069ff; text-decoration-color: #0069ff; font-weight: bold\">INFO    </span> Found credentials from IAM Role:                                   <a href=\"file:///home/ec2-user/anaconda3/envs/python3/lib/python3.10/site-packages/botocore/credentials.py\" target=\"_blank\"><span style=\"color: #7f7f7f; text-decoration-color: #7f7f7f\">credentials.py</span></a><span style=\"color: #7f7f7f; text-decoration-color: #7f7f7f\">:</span><a href=\"file:///home/ec2-user/anaconda3/envs/python3/lib/python3.10/site-packages/botocore/credentials.py#1075\" target=\"_blank\"><span style=\"color: #7f7f7f; text-decoration-color: #7f7f7f\">1075</span></a>\n",
       "<span style=\"color: #7fbfbf; text-decoration-color: #7fbfbf\">                    </span>         BaseNotebookInstanceEc2InstanceRole                                <span style=\"color: #7f7f7f; text-decoration-color: #7f7f7f\">                   </span>\n",
       "</pre>\n"
      ],
      "text/plain": [
       "\u001b[2;36m[02/27/25 09:49:19]\u001b[0m\u001b[2;36m \u001b[0m\u001b[1;38;2;0;105;255mINFO    \u001b[0m Found credentials from IAM Role:                                   \u001b]8;id=227213;file:///home/ec2-user/anaconda3/envs/python3/lib/python3.10/site-packages/botocore/credentials.py\u001b\\\u001b[2mcredentials.py\u001b[0m\u001b]8;;\u001b\\\u001b[2m:\u001b[0m\u001b]8;id=359998;file:///home/ec2-user/anaconda3/envs/python3/lib/python3.10/site-packages/botocore/credentials.py#1075\u001b\\\u001b[2m1075\u001b[0m\u001b]8;;\u001b\\\n",
       "\u001b[2;36m                    \u001b[0m         BaseNotebookInstanceEc2InstanceRole                                \u001b[2m                   \u001b[0m\n"
      ]
     },
     "metadata": {},
     "output_type": "display_data"
    },
    {
     "name": "stdout",
     "output_type": "stream",
     "text": [
      "🔹 Testing endpoint: 27legal-autogen-endpoint-version3-claude...\n",
      "✅ **Endpoint Test Successful!**\n",
      "🔹 **Response:**\n",
      "{\n",
      "  \"response\": \"Error generating response: Error code: 401 - {'error': {'message': 'Incorrect API key provided: sk-proj-********************************************************************************************************************************************************lwEA. You can find your API key at https://platform.openai.com/account/api-keys.', 'type': 'invalid_request_error', 'param': None, 'code': 'invalid_api_key'}}\"\n",
      "}\n"
     ]
    }
   ],
   "source": [
    "import boto3\n",
    "import json\n",
    "\n",
    "def test_endpoint():\n",
    "    \"\"\"\n",
    "    Test the deployed endpoint with a sample input.\n",
    "    \"\"\"\n",
    "    endpoint_name = \"27legal-autogen-endpoint-version3-claude\"\n",
    "    region = \"us-east-1\"\n",
    "\n",
    "    sample_input = \"\"\"\n",
    "    Analyze the following legal document for potential issues:\n",
    "\n",
    "    This Agreement is made effective as of March 1st, 2024, by and between Omega Software Corp. (\"Party A\") \n",
    "    and Horizon Data Solutions (\"Party B\").\n",
    "\n",
    "    1. Termination: Either party may terminate this Agreement with 60 days' notice. \n",
    "       In the case of a breach of any material obligation by Party B, Party A can terminate with 7 days' notice.\n",
    "\n",
    "    2. Confidentiality: Both parties agree to maintain confidentiality regarding any proprietary information \n",
    "       for the duration of the Agreement and 5 years following its termination.\n",
    "    \"\"\"\n",
    "\n",
    "    # Initialize runtime client\n",
    "    runtime = boto3.client('sagemaker-runtime', region_name=region)\n",
    "\n",
    "    # Prepare test payload\n",
    "    payload = json.dumps({\"input\": sample_input})\n",
    "\n",
    "    print(f\"🔹 Testing endpoint: {endpoint_name}...\")\n",
    "\n",
    "    # Invoke endpoint\n",
    "    try:\n",
    "        response = runtime.invoke_endpoint(\n",
    "            EndpointName=endpoint_name,\n",
    "            ContentType='application/json',\n",
    "            Body=payload\n",
    "        )\n",
    "\n",
    "        # Parse response\n",
    "        result = json.loads(response['Body'].read().decode())\n",
    "        print(\"✅ **Endpoint Test Successful!**\")\n",
    "        print(f\"🔹 **Response:**\\n{json.dumps(result, indent=2)}\")\n",
    "        return result\n",
    "    except Exception as e:\n",
    "        print(f\"❌ **Error testing endpoint:** {str(e)}\")\n",
    "        return None\n",
    "\n",
    "# Run Test\n",
    "test_result = test_endpoint()"
   ]
  },
  {
   "cell_type": "code",
   "execution_count": null,
   "id": "c7602aa9-2df0-4268-948c-d1e6e9d66f25",
   "metadata": {},
   "outputs": [],
   "source": []
  }
 ],
 "metadata": {
  "kernelspec": {
   "display_name": "conda_python3",
   "language": "python",
   "name": "conda_python3"
  },
  "language_info": {
   "codemirror_mode": {
    "name": "ipython",
    "version": 3
   },
   "file_extension": ".py",
   "mimetype": "text/x-python",
   "name": "python",
   "nbconvert_exporter": "python",
   "pygments_lexer": "ipython3",
   "version": "3.10.16"
  }
 },
 "nbformat": 4,
 "nbformat_minor": 5
}
